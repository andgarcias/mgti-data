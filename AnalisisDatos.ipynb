{
  "nbformat": 4,
  "nbformat_minor": 0,
  "metadata": {
    "colab": {
      "provenance": [],
      "toc_visible": true
    },
    "kernelspec": {
      "name": "python3",
      "display_name": "Python 3"
    },
    "language_info": {
      "name": "python"
    }
  },
  "cells": [
    {
      "cell_type": "code",
      "execution_count": null,
      "metadata": {
        "id": "kitha10g3jNs",
        "colab": {
          "base_uri": "https://localhost:8080/"
        },
        "outputId": "10b44370-04e3-4fe3-ad07-7a8bb45d85ae"
      },
      "outputs": [
        {
          "output_type": "stream",
          "name": "stdout",
          "text": [
            "Mounted at /content/drive\n"
          ]
        }
      ],
      "source": [
        "import pandas as pd\n",
        "import matplotlib.pyplot as plt\n",
        "import seaborn as sns\n",
        "from sklearn.model_selection import train_test_split\n",
        "from sklearn.ensemble import RandomForestClassifier\n",
        "from sklearn.metrics import accuracy_score, classification_report, confusion_matrix\n",
        "from google.colab import drive\n",
        "drive.mount('/content/drive')"
      ]
    },
    {
      "cell_type": "code",
      "source": [
        "df = pd.read_csv('/content/drive/MyDrive/dataset/dataset.csv', sep=';')\n",
        "print(df.info())"
      ],
      "metadata": {
        "id": "n3yxfYRs3z5h",
        "colab": {
          "base_uri": "https://localhost:8080/"
        },
        "outputId": "c49730d7-6c1d-4fb1-f91a-edc7d0c6438a"
      },
      "execution_count": null,
      "outputs": [
        {
          "output_type": "stream",
          "name": "stdout",
          "text": [
            "<class 'pandas.core.frame.DataFrame'>\n",
            "RangeIndex: 882860 entries, 0 to 882859\n",
            "Data columns (total 16 columns):\n",
            " #   Column                            Non-Null Count   Dtype  \n",
            "---  ------                            --------------   -----  \n",
            " 0   UserId                            882860 non-null  int64  \n",
            " 1   Type                              882860 non-null  object \n",
            " 2   Name                              882860 non-null  object \n",
            " 3   StartTimeUtc                      882860 non-null  object \n",
            " 4   DurationInSeconds                 882860 non-null  int64  \n",
            " 5   DistanceInMeters                  777256 non-null  object \n",
            " 6   Steps                             579034 non-null  float64\n",
            " 7   AverageSpeedInMetersPerSecond     776773 non-null  object \n",
            " 8   AveragePaceInMinutesPerKilometer  766668 non-null  object \n",
            " 9   TotalElevationGainInMeters        649359 non-null  object \n",
            " 10  TotalElevationLossInMeters        648437 non-null  object \n",
            " 11  AverageHeartRateInBeatsPerMinute  813303 non-null  float64\n",
            " 12  SourceType                        882860 non-null  object \n",
            " 13  SourceName                        878734 non-null  object \n",
            " 14  Warnings                          171462 non-null  object \n",
            " 15  CreationTime                      882860 non-null  object \n",
            "dtypes: float64(2), int64(2), object(12)\n",
            "memory usage: 107.8+ MB\n",
            "None\n"
          ]
        }
      ]
    },
    {
      "cell_type": "code",
      "source": [
        "print(\"\\nEstadísticas descriptivas:\")\n",
        "print(df.describe())"
      ],
      "metadata": {
        "colab": {
          "base_uri": "https://localhost:8080/"
        },
        "id": "pxlJO1fGC2Ou",
        "outputId": "63744edb-f38a-4f95-ca71-6d7e1ca96c7c"
      },
      "execution_count": null,
      "outputs": [
        {
          "output_type": "stream",
          "name": "stdout",
          "text": [
            "\n",
            "Estadísticas descriptivas:\n",
            "             UserId  DurationInSeconds          Steps  \\\n",
            "count  8.828600e+05       8.828600e+05  579034.000000   \n",
            "mean   4.720222e+07       4.177964e+03    5109.346705   \n",
            "std    2.746887e+07       8.201653e+03    5794.968945   \n",
            "min    2.024000e+03      -1.764163e+06       0.000000   \n",
            "25%    2.433455e+07       1.628000e+03     348.000000   \n",
            "50%    4.441466e+07       3.016000e+03    3550.000000   \n",
            "75%    7.270815e+07       5.013000e+03    8092.000000   \n",
            "max    9.812554e+07       4.264296e+06  220378.000000   \n",
            "\n",
            "       AverageHeartRateInBeatsPerMinute  \n",
            "count                     813303.000000  \n",
            "mean                         125.033942  \n",
            "std                           30.888986  \n",
            "min                            0.000000  \n",
            "25%                          109.000000  \n",
            "50%                          130.000000  \n",
            "75%                          146.000000  \n",
            "max                          243.000000  \n"
          ]
        }
      ]
    },
    {
      "cell_type": "code",
      "source": [],
      "metadata": {
        "id": "hR_QQeKDENoF"
      },
      "execution_count": null,
      "outputs": []
    },
    {
      "cell_type": "markdown",
      "source": [
        "Estadisticas:"
      ],
      "metadata": {
        "id": "fHkTInXZ91AI"
      }
    },
    {
      "cell_type": "code",
      "source": [
        "columna = 'TotalElevationGainInMeters'\n",
        "print(df[columna].describe())\n",
        "\n",
        "# Conteo de valores unicos\n",
        "conteo_valores = df[columna].value_counts()\n",
        "print(\"Frecuencia de cada categoría:\\n\", conteo_valores)\n",
        "\n",
        "# Moda (valor más frecuente)\n",
        "moda = df[columna].mode()[0]\n",
        "print(\"\\nModa:\", moda)\n",
        "\n",
        "# Número de categorías únicas\n",
        "num_categorias = df[columna].nunique()\n",
        "print(\"\\nNúmero de categorías únicas:\", num_categorias)\n",
        "\n",
        "valores_nulos = df[columna].isnull().sum()\n",
        "print(\"\\nValores nulos en la columna:\", valores_nulos)"
      ],
      "metadata": {
        "colab": {
          "base_uri": "https://localhost:8080/"
        },
        "id": "HVmIKsYn93gg",
        "outputId": "a0dc6110-0e4c-4f5d-d7ae-77faf5969991"
      },
      "execution_count": null,
      "outputs": [
        {
          "output_type": "stream",
          "name": "stdout",
          "text": [
            "count     649359\n",
            "unique    185033\n",
            "top            0\n",
            "freq       33868\n",
            "Name: TotalElevationGainInMeters, dtype: object\n",
            "Frecuencia de cada categoría:\n",
            " TotalElevationGainInMeters\n",
            "0            33868\n",
            "2             8362\n",
            "1             7131\n",
            "4             6513\n",
            "5             5394\n",
            "             ...  \n",
            "85,0625          1\n",
            "25,408386        1\n",
            "192,78696        1\n",
            "6,5543213        1\n",
            "87,01277         1\n",
            "Name: count, Length: 185033, dtype: int64\n",
            "\n",
            "Moda: 0\n",
            "\n",
            "Número de categorías únicas: 185033\n",
            "\n",
            "Valores nulos en la columna: 233501\n"
          ]
        }
      ]
    },
    {
      "cell_type": "code",
      "source": [
        "plt.figure(figsize=(10, 5))\n",
        "sns.countplot(y=df[columna], order=df[columna].value_counts().index, palette=\"viridis\")\n",
        "plt.xlabel(\"Frecuencia\")\n",
        "plt.ylabel(columna)\n",
        "plt.title(f\"Distribución de {columna}\")\n",
        "plt.show()"
      ],
      "metadata": {
        "colab": {
          "base_uri": "https://localhost:8080/",
          "height": 575
        },
        "id": "9GgumGm3Jpb2",
        "outputId": "602a140a-d6e1-4301-fbc7-6e69260ec6f4"
      },
      "execution_count": null,
      "outputs": [
        {
          "output_type": "stream",
          "name": "stderr",
          "text": [
            "<ipython-input-6-ef6420b8a37b>:2: FutureWarning: \n",
            "\n",
            "Passing `palette` without assigning `hue` is deprecated and will be removed in v0.14.0. Assign the `y` variable to `hue` and set `legend=False` for the same effect.\n",
            "\n",
            "  sns.countplot(y=df[columna], order=df[columna].value_counts().index, palette=\"viridis\")\n"
          ]
        },
        {
          "output_type": "display_data",
          "data": {
            "text/plain": [
              "<Figure size 1000x500 with 1 Axes>"
            ],
            "image/png": "[encoded data removed]"
          },
          "metadata": {}
        }
      ]
    },
    {
      "cell_type": "code",
      "source": [
        "df[columna].value_counts().head(7).plot(kind='bar', color='skyblue', edgecolor='black')\n",
        "plt.xlabel(columna)\n",
        "plt.ylabel(\"Frecuencia\")\n",
        "plt.title(f\"Top 7 categorías más comunes en {columna}\")\n",
        "plt.xticks(rotation=45)\n",
        "plt.show()"
      ],
      "metadata": {
        "colab": {
          "base_uri": "https://localhost:8080/",
          "height": 509
        },
        "id": "dle7tm3AJxnt",
        "outputId": "535d5ece-6527-4af5-e574-70663500cca7"
      },
      "execution_count": null,
      "outputs": [
        {
          "output_type": "display_data",
          "data": {
            "text/plain": [
              "<Figure size 640x480 with 1 Axes>"
            ],
            "image/png": "[encoded data removed]"
          },
          "metadata": {}
        }
      ]
    },
    {
      "cell_type": "code",
      "source": [
        "porcentaje_categoria = (conteo_valores / conteo_valores.sum()) * 100\n",
        "print(\"\\nPorcentaje de cada categoría:\\n\", porcentaje_categoria)\n"
      ],
      "metadata": {
        "id": "v36LxZVRJ4ic",
        "outputId": "d5446411-0bd6-46fc-9a8d-c102f926e19b",
        "colab": {
          "base_uri": "https://localhost:8080/"
        }
      },
      "execution_count": null,
      "outputs": [
        {
          "output_type": "stream",
          "name": "stdout",
          "text": [
            "\n",
            "Porcentaje de cada categoría:\n",
            " Type\n",
            "Running             39.779240\n",
            "Cycling             31.368620\n",
            "Other               15.136375\n",
            "Walking              6.804816\n",
            "Swimming             3.361235\n",
            "TreadmillRunning     2.909068\n",
            "IndoorCycling        0.640645\n",
            "Name: count, dtype: float64\n"
          ]
        }
      ]
    },
    {
      "cell_type": "code",
      "source": [
        "df[\"SourceType_Agrupado\"] = df[\"SourceType\"].apply(lambda x: x if x in [\"Garmin\", \"Wahoo\", \"Polar\"] else \"Otras\")\n",
        "print(df[\"SourceType_Agrupado\"].value_counts(normalize=True) * 100)\n"
      ],
      "metadata": {
        "colab": {
          "base_uri": "https://localhost:8080/"
        },
        "id": "aM8e22IT_I4p",
        "outputId": "2befebef-70b7-49e4-a220-5038ce96dbf2"
      },
      "execution_count": null,
      "outputs": [
        {
          "output_type": "stream",
          "name": "stdout",
          "text": [
            "SourceType_Agrupado\n",
            "Garmin    89.092608\n",
            "Otras      5.334255\n",
            "Wahoo      3.340620\n",
            "Polar      2.232517\n",
            "Name: proportion, dtype: float64\n"
          ]
        }
      ]
    },
    {
      "cell_type": "markdown",
      "source": [
        "Filtrar"
      ],
      "metadata": {
        "id": "KEAhocPlJx-K"
      }
    },
    {
      "cell_type": "code",
      "source": [
        "df_running = df[df[\"Type\"] == \"Running\"]"
      ],
      "metadata": {
        "id": "EeYuGCdtDjFy"
      },
      "execution_count": null,
      "outputs": []
    },
    {
      "cell_type": "code",
      "source": [
        "print(df_running.isnull().sum() / len(df) * 100)\n"
      ],
      "metadata": {
        "colab": {
          "base_uri": "https://localhost:8080/"
        },
        "id": "wiH6_9-tEgxc",
        "outputId": "fb1495f4-2eec-4e4e-b0ab-6e6523bd5d52"
      },
      "execution_count": null,
      "outputs": [
        {
          "output_type": "stream",
          "name": "stdout",
          "text": [
            "UserId                               0.000000\n",
            "Type                                 0.000000\n",
            "Name                                 0.000000\n",
            "StartTimeUtc                         0.000000\n",
            "DurationInSeconds                    0.000000\n",
            "DistanceInMeters                     0.110890\n",
            "Steps                                0.453979\n",
            "AverageSpeedInMetersPerSecond        0.112589\n",
            "AveragePaceInMinutesPerKilometer     0.119158\n",
            "TotalElevationGainInMeters           3.773645\n",
            "TotalElevationLossInMeters           3.729357\n",
            "AverageHeartRateInBeatsPerMinute     1.496727\n",
            "SourceType                           0.000000\n",
            "SourceName                           0.113155\n",
            "Warnings                            35.829803\n",
            "CreationTime                         0.000000\n",
            "SourceType_Agrupado                  0.000000\n",
            "dtype: float64\n"
          ]
        }
      ]
    },
    {
      "cell_type": "code",
      "source": [
        "columna = 'SourceType'\n",
        "print(df_running[columna].describe())\n",
        "\n",
        "# Conteo de valores unicos\n",
        "conteo_valores = df_running[columna].value_counts()\n",
        "print(\"Frecuencia de cada categoría:\\n\", conteo_valores)\n",
        "\n",
        "# Moda (valor más frecuente)\n",
        "moda = df_running[columna].mode()[0]\n",
        "print(\"\\nModa:\", moda)\n",
        "\n",
        "# Número de categorías únicas\n",
        "num_categorias = df_running[columna].nunique()\n",
        "print(\"\\nNúmero de categorías únicas:\", num_categorias)\n",
        "\n",
        "valores_nulos = df_running[columna].isnull().sum()\n",
        "print(\"\\nValores nulos en la columna:\", valores_nulos)\n",
        "\n",
        "print(df_running[columna].isnull().sum() * 100)"
      ],
      "metadata": {
        "colab": {
          "base_uri": "https://localhost:8080/"
        },
        "id": "06r4oUe0FINF",
        "outputId": "c745e2f6-d0ec-4676-c538-d10ce932e7d7"
      },
      "execution_count": null,
      "outputs": [
        {
          "output_type": "stream",
          "name": "stdout",
          "text": [
            "count     351195\n",
            "unique         6\n",
            "top       Garmin\n",
            "freq      321978\n",
            "Name: SourceType, dtype: object\n",
            "Frecuencia de cada categoría:\n",
            " SourceType\n",
            "Garmin    321978\n",
            "Coros      11248\n",
            "Polar       9628\n",
            "Wahoo       4287\n",
            "Suunto      3965\n",
            "Apple         89\n",
            "Name: count, dtype: int64\n",
            "\n",
            "Moda: Garmin\n",
            "\n",
            "Número de categorías únicas: 6\n",
            "\n",
            "Valores nulos en la columna: 0\n",
            "0\n"
          ]
        }
      ]
    },
    {
      "cell_type": "code",
      "source": [
        "columna = \"TotalElevationGainInMeters\"  # Reemplaza con el nombre real de tu columna\n",
        "print(df_running[columna].describe())\n"
      ],
      "metadata": {
        "colab": {
          "base_uri": "https://localhost:8080/"
        },
        "id": "LfZJIIBGF0WE",
        "outputId": "2d8e0d3a-e4bc-4b0a-f300-071424f995ab"
      },
      "execution_count": null,
      "outputs": [
        {
          "output_type": "stream",
          "name": "stdout",
          "text": [
            "count     317879\n",
            "unique    130919\n",
            "top            0\n",
            "freq       10296\n",
            "Name: TotalElevationGainInMeters, dtype: object\n"
          ]
        }
      ]
    }
  ]
}